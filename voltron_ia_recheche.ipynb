{
 "cells": [
  {
   "cell_type": "markdown",
   "id": "aaf3bedf-eaee-475e-820e-f40b589540c0",
   "metadata": {},
   "source": [
    "<h1>Voltron IA 🤖</h1>\n",
    "<p>Ce projet nécessite du machine learning (exprimé dans l'énoncé) je me suis donc intéressé à la chose j'ai pu découvrir qu'il existait 3 types de façon d'apprentissage pour une IA\n",
    "\n",
    "<strong>L'apprentissage supervisé</strong> est une tâche d'apprentissage automatique consistant à apprendre une fonction de prédiction à partir d'exemples annotés\n",
    "\n",
    "<strong>l'apprentissage non supervisé</strong> désigne la situation d'apprentissage automatique ou les données ne sont pas étiquetées il s'agit donc de découvrir les structures sous-jacentes à ces données en découvrant des tendances\n",
    "\n",
    "mais aussi <strong>l'apprentissage par renforcement</strong> qui consiste à entraîner un modèle d'intelligence artificielle de s'entraîner d'elle-même à apprendre à réussir un objectif au sein un environnement incertain et potentiellement complexe\n",
    "\n",
    "Dans le cadre de ce projet voltron j'ai décidé de partir sur un *Apprentissage SUPERVISÉ* , \n",
    "    \n",
    "Avec l'apprentissage supervisé la machine peut apprendre certains patern en étudiant des exemples ce qui est parfait dans notre cas où l'on veut déterminer des trajectoires à partir de données de parcours fournit par l’équipe de DATA\n",
    "    \n",
    "À l'intérieur d'un apprentissage supervisé il existe 2 autres distinctions qui nous aidera dans le choix de notre algorithme de machine learning \n",
    "    \n",
    "Cela dépend de la sortie que l'on attend de notre programme est-ce une valeur dite *continue* où est-ce une valeur dite *discrète*,  dans le premier cas il s'agit d'une <strong>régression</strong> et dans le 2e cas d'une  <strong>classification</strong>\n",
    "    \n",
    "    \n",
    "Pour définir les trajectoire, je n'est pas trouvé de  *classifieur* pour déduire des trajectoires, mais l'existence de la *régression* me fait penser être la bonne solution je m'y suis alors intéressé j'ai appris qu'il existait 3 types de modèle de *régression* une <strong>linéaire simple</strong> une <strong>multi-linéaire</strong> et une <strong>polynomiale</strong> il a fallu donc faire un choix après plusieurs recherches :\n",
    "</p>"
   ]
  },
  {
   "cell_type": "markdown",
   "id": "d67b0618-68ab-4778-b666-a4b15c104b4c",
   "metadata": {},
   "source": [
    "<h2>Script Python de Recherche 🤔</h2>"
   ]
  },
  {
   "cell_type": "markdown",
   "id": "25add5bf-c8ec-4152-8135-1b1dcf9c30ee",
   "metadata": {},
   "source": [
    "<h3>Libriarie</h3>"
   ]
  },
  {
   "cell_type": "code",
   "execution_count": 1,
   "id": "3b82b8c1-618b-4355-be37-92a149df6d42",
   "metadata": {},
   "outputs": [],
   "source": [
    "import json\n",
    "import matplotlib.pyplot as plt\n",
    "from random import *\n",
    "import random as rnd\n",
    "from itertools import cycle\n",
    "from mpl_toolkits.mplot3d import Axes3D\n",
    "import numpy as np\n",
    "from sklearn.preprocessing import PolynomialFeatures\n",
    "import pandas as pd\n",
    "from pandas.plotting import autocorrelation_plot"
   ]
  },
  {
   "cell_type": "markdown",
   "id": "882e4654-35ef-4a1f-af83-c9ed179ff942",
   "metadata": {
    "tags": []
   },
   "source": [
    "<h1>Lecture des datas 📄</h1>\n",
    "<p>Je pensais utiliser les données que m'avaient fournies l’équipe des DATA en réutilisant les localisations GPS d'un cycliste et en créant plusieurs chemin à partir de celui existant en changeant de quelques centièmes les coordonnées X et Y, sauf que bien évidemment, les trajets se ressemblent tous étant donné qu'elles proviennent d'une même origine.</p>"
   ]
  },
  {
   "cell_type": "code",
   "execution_count": 2,
   "id": "68789140-ef97-49d1-9f62-57fc884f6ab4",
   "metadata": {},
   "outputs": [],
   "source": [
    "# Opening JSON file\n",
    "f = open('tracksgeo.json')\n",
    "json_file = json.load(f)"
   ]
  },
  {
   "cell_type": "code",
   "execution_count": 3,
   "id": "4466b233-e4ec-40b6-86a6-5f38802a3f78",
   "metadata": {
    "tags": []
   },
   "outputs": [],
   "source": [
    "tab_X = []\n",
    "tab_Y = []\n",
    "random_traject_coord = []\n",
    "rand_X = rnd.uniform(5.3, 6.2)\n",
    "rand_Y = rnd.uniform(43.1, 44.9)\n",
    "\n",
    "for data in json_file['features']:\n",
    "    for coord in data['geometry']['coordinates']:\n",
    "        for x , y  in coord:\n",
    "            tab_X.append(x)\n",
    "            # création du dataset aléatoire \n",
    "            random_traject_coord.append([x + rnd.uniform(0, 0.01),y + rnd.uniform(0, 0.01)])\n",
    "            tab_Y.append(y)\n",
    "# Closing file\n",
    "f.close()"
   ]
  },
  {
   "cell_type": "code",
   "execution_count": 4,
   "id": "c384b442-d60c-4190-90cf-67a266b8205b",
   "metadata": {},
   "outputs": [
    {
     "data": {
      "image/png": "[encoded data removed]",
      "text/plain": [
       "<Figure size 432x288 with 1 Axes>"
      ]
     },
     "metadata": {
      "needs_background": "light"
     },
     "output_type": "display_data"
    }
   ],
   "source": [
    "plt.scatter(tab_X, tab_Y, 0.1, c='coral')\n",
    "\n",
    "tab_X = []\n",
    "tab_Y = []\n",
    "for x , y in random_traject_coord:\n",
    "    tab_X.append(x)\n",
    "    tab_Y.append(y)\n",
    "    \n",
    "plt.scatter(tab_X,tab_Y,0.1, 'blue')           \n",
    "        \n",
    "tab_X = []\n",
    "tab_Y = []\n",
    "for x , y in random_traject_coord:\n",
    "    tab_X.append(x)\n",
    "    tab_Y.append(y)\n",
    "    \n",
    "plt.scatter(tab_X,tab_Y,0.1, 'yellow') \n",
    "plt.title('Visualisation trajet ciclyste')\n",
    "plt.xlabel('latitude')\n",
    "plt.ylabel('longitude')\n",
    "plt.show() "
   ]
  },
  {
   "cell_type": "markdown",
   "id": "fe28b872-8ff4-461d-993e-35968635dab1",
   "metadata": {
    "tags": []
   },
   "source": [
    "<h3>Visualisation nuage de points de l'equipe de DATA (chemin parcouru par le cycliste)</h3>\n"
   ]
  },
  {
   "cell_type": "markdown",
   "id": "2074910d-3a76-429e-b7d4-ba43524c89f5",
   "metadata": {},
   "source": [
    "<h1>Random Walk in 2D 🚶</h1>\n",
    "<p>J'ai donc pensé de trouver ma propre source de données, je me suis alors intéressé à l'algorithme Random Walk celui-ci permettant de créer des chemins aléatoire, et donc une fois les chemins en ma possession tous aussi différents les uns des autres, je pensais pouvoir entraîner mon IA avec ce dataset néanmoins lorsque j'essaye de visualiser ce dataset en nuage de points je ne perçois pas de régularité et donc ne parvient pas à  faire un choix de modèle <strong>(linéaire, linéaire multiple ou polynomial)</strong> , j'aurais dû m'en douter étant donné que ce sont des données tiré d'une fonction aléatoires 🙄</p>"
   ]
  },
  {
   "cell_type": "code",
   "execution_count": 5,
   "id": "e9576540-1356-498f-ae7b-c9966884473a",
   "metadata": {},
   "outputs": [],
   "source": [
    "def random_walk_1D(n):\n",
    "    x, y = 0, 0\n",
    "    # Generate the time points [1, 2, 3, ... , n]\n",
    "    timepoints = np.arange(n + 1)\n",
    "    positions = [y]\n",
    "    directions = [\"UP\", \"DOWN\"]\n",
    "    for i in range(1, n + 1):\n",
    "        # Randomly select either UP or DOWN\n",
    "        step = rnd.choice(directions)\n",
    "        \n",
    "        # Move the object up or down\n",
    "        if step == \"UP\":\n",
    "            y += 1\n",
    "        elif step == \"DOWN\":\n",
    "            y -= 1\n",
    "        # Keep track of the positions\n",
    "        positions.append(y)\n",
    "    return timepoints, positions"
   ]
  },
  {
   "cell_type": "code",
   "execution_count": 6,
   "id": "85ce217a-2ee2-4f5a-aca7-4c76bc26e599",
   "metadata": {},
   "outputs": [
    {
     "data": {
      "image/png": "[encoded data removed]",
      "text/plain": [
       "<Figure size 432x288 with 1 Axes>"
      ]
     },
     "metadata": {
      "needs_background": "light"
     },
     "output_type": "display_data"
    }
   ],
   "source": [
    "rw_1 = random_walk_1D(300)\n",
    "rw_2 = random_walk_1D(300)\n",
    "rw_3 = random_walk_1D(300)\n",
    "plt.scatter(rw_1[0], rw_1[1], 1,'red', )\n",
    "plt.scatter(rw_2[0], rw_2[1], 1,'green', )\n",
    "plt.scatter(rw_3[0], rw_3[1], 1,'blue', )\n",
    "plt.show()"
   ]
  },
  {
   "cell_type": "markdown",
   "id": "c63ba42a-60ef-4829-98c1-080e18bcd6a2",
   "metadata": {},
   "source": [
    "<h3>Représentation d'une regression polynomial</h3>"
   ]
  },
  {
   "cell_type": "code",
   "execution_count": 10,
   "id": "ff54c3b0-7b0f-45f9-bcc2-e105d95c2925",
   "metadata": {},
   "outputs": [
    {
     "data": {
      "image/png": "[encoded data removed]",
      "text/plain": [
       "<Figure size 432x288 with 1 Axes>"
      ]
     },
     "metadata": {
      "needs_background": "light"
     },
     "output_type": "display_data"
    }
   ],
   "source": [
    "x = [1,2,3,5,6,7,8,9,10,12,13,14,15,16,18,19,21,22]\n",
    "y = [100,90,80,60,60,55,60,65,70,70,75,76,78,79,90,99,99,100]\n",
    "\n",
    "my_model = np.poly1d(np.polyfit(x, y, 3))\n",
    "\n",
    "my_line = np.linspace(1, 22, 100)\n",
    "\n",
    "plt.scatter(x, y)\n",
    "plt.plot(my_line, my_model(my_line))\n",
    "plt.show()"
   ]
  },
  {
   "cell_type": "markdown",
   "id": "80ba4942-9539-49bb-b506-1b93df55e5cb",
   "metadata": {},
   "source": [
    "<h1>🤓 FOLLOW UP ! </h1>\n",
    "<p>Après rendez-vous avec l'expert j'en ai conclu qu'il fallait que j'extrapole mes informations que je donne à mon IA c'est à dire que je devais créer des contextes dans lesquelles l’IA aller devoir apprendre</p>"
   ]
  },
  {
   "cell_type": "markdown",
   "id": "0efc6f59-c15e-40aa-a485-7da7b653e358",
   "metadata": {},
   "source": [
    "<p>J'ai défini alors une structure de donnée { \"météo\" : \"\" , \"vitesse\" : \"\" , \"éclairage\" : \"\",  \"température\" : \"\" }</p>\n",
    "\n",
    "<fieldset><legend>Météo</legend>\n",
    "<ul>\n",
    "    <li>Ciel dégagé</li>    \n",
    "    <li>Orageux</li>    \n",
    "    <li>Nuageux</li>\n",
    "</ul>\n",
    "</fieldset>\n",
    "<fieldset><legend>Vitesse</legend>\n",
    "    <p>Variation de 10km/h à 100km/h</p>\n",
    "</fieldset>\n",
    "<fieldset><legend>Température</legend>\n",
    "    <p>Variation de -10° à 45°</p>\n",
    "</fieldset>\n",
    "<fieldset><legend>Éclairage</legend>\n",
    "    <p>Nuit | Journée</p>\n",
    "</fieldset>\n",
    "\n"
   ]
  },
  {
   "cell_type": "code",
   "execution_count": 7,
   "id": "a2b96cbf-97c4-47d3-b8bd-ba7ec4311d31",
   "metadata": {},
   "outputs": [
    {
     "name": "stdout",
     "output_type": "stream",
     "text": [
      "[{'météo': 'Nuageux', 'vitesse': 42, 'éclairage': 'Nuit', 'température': 3}, {'météo': 'Ciel dégagé', 'vitesse': 30, 'éclairage': 'Journée', 'température': 24}, {'météo': 'Ciel dégagé', 'vitesse': 34, 'éclairage': 'Nuit', 'température': 40}, {'météo': 'Orageux', 'vitesse': 75, 'éclairage': 'Nuit', 'température': 19}, {'météo': 'Ciel dégagé', 'vitesse': 86, 'éclairage': 'Journée', 'température': 38}, {'météo': 'Ciel dégagé', 'vitesse': 73, 'éclairage': 'Journée', 'température': -9}, {'météo': 'Ciel dégagé', 'vitesse': 86, 'éclairage': 'Journée', 'température': 35}, {'météo': 'Nuageux', 'vitesse': 72, 'éclairage': 'Journée', 'température': -2}, {'météo': 'Nuageux', 'vitesse': 28, 'éclairage': 'Journée', 'température': -9}, {'météo': 'Nuageux', 'vitesse': 23, 'éclairage': 'Nuit', 'température': 33}, {'météo': 'Ciel dégagé', 'vitesse': 82, 'éclairage': 'Nuit', 'température': 12}, {'météo': 'Nuageux', 'vitesse': 53, 'éclairage': 'Journée', 'température': -2}, {'météo': 'Ciel dégagé', 'vitesse': 57, 'éclairage': 'Nuit', 'température': 33}, {'météo': 'Nuageux', 'vitesse': 96, 'éclairage': 'Journée', 'température': 1}, {'météo': 'Orageux', 'vitesse': 29, 'éclairage': 'Journée', 'température': -8}, {'météo': 'Ciel dégagé', 'vitesse': 55, 'éclairage': 'Journée', 'température': -10}, {'météo': 'Ciel dégagé', 'vitesse': 33, 'éclairage': 'Nuit', 'température': -2}, {'météo': 'Nuageux', 'vitesse': 83, 'éclairage': 'Nuit', 'température': -3}, {'météo': 'Orageux', 'vitesse': 82, 'éclairage': 'Journée', 'température': 42}, {'météo': 'Ciel dégagé', 'vitesse': 37, 'éclairage': 'Journée', 'température': 3}, {'météo': 'Orageux', 'vitesse': 76, 'éclairage': 'Nuit', 'température': 43}, {'météo': 'Nuageux', 'vitesse': 75, 'éclairage': 'Nuit', 'température': 34}, {'météo': 'Ciel dégagé', 'vitesse': 16, 'éclairage': 'Journée', 'température': 38}, {'météo': 'Orageux', 'vitesse': 80, 'éclairage': 'Nuit', 'température': 20}, {'météo': 'Nuageux', 'vitesse': 87, 'éclairage': 'Journée', 'température': 1}, {'météo': 'Ciel dégagé', 'vitesse': 57, 'éclairage': 'Journée', 'température': -3}, {'météo': 'Ciel dégagé', 'vitesse': 63, 'éclairage': 'Journée', 'température': 2}, {'météo': 'Nuageux', 'vitesse': 60, 'éclairage': 'Journée', 'température': -8}, {'météo': 'Ciel dégagé', 'vitesse': 47, 'éclairage': 'Journée', 'température': 25}, {'météo': 'Nuageux', 'vitesse': 85, 'éclairage': 'Nuit', 'température': 0}, {'météo': 'Orageux', 'vitesse': 100, 'éclairage': 'Journée', 'température': 24}, {'météo': 'Nuageux', 'vitesse': 34, 'éclairage': 'Nuit', 'température': 7}, {'météo': 'Orageux', 'vitesse': 80, 'éclairage': 'Nuit', 'température': 7}, {'météo': 'Ciel dégagé', 'vitesse': 39, 'éclairage': 'Nuit', 'température': -6}, {'météo': 'Nuageux', 'vitesse': 83, 'éclairage': 'Journée', 'température': 5}, {'météo': 'Orageux', 'vitesse': 52, 'éclairage': 'Journée', 'température': 20}, {'météo': 'Orageux', 'vitesse': 50, 'éclairage': 'Journée', 'température': 24}, {'météo': 'Ciel dégagé', 'vitesse': 96, 'éclairage': 'Nuit', 'température': 1}, {'météo': 'Orageux', 'vitesse': 27, 'éclairage': 'Nuit', 'température': -4}, {'météo': 'Nuageux', 'vitesse': 23, 'éclairage': 'Journée', 'température': 25}, {'météo': 'Nuageux', 'vitesse': 51, 'éclairage': 'Journée', 'température': 4}, {'météo': 'Nuageux', 'vitesse': 21, 'éclairage': 'Nuit', 'température': 4}]\n"
     ]
    }
   ],
   "source": [
    "def random_fake_data(n):\n",
    "    data = []\n",
    "    meteo_values = [\"Ciel dégagé\",\"Orageux\",\"Nuageux\"]\n",
    "    brightness_values = [\"Nuit\",\"Journée\"]\n",
    "    for i in range(n):\n",
    "        speed_random_value = rnd.randint(10, 100)\n",
    "        temperature_random_value = rnd.randint(-10, 45)\n",
    "        brightness_random_value = brightness_values[rnd.randint(0, 1)]\n",
    "        meteo_random_value = meteo_values[rnd.randint(0,len(meteo_values)-1)]\n",
    "        fake_json =  { \"météo\" : meteo_random_value  , \"vitesse\" : speed_random_value , \"éclairage\" : brightness_random_value, \"température\" : temperature_random_value }\n",
    "        data.append(fake_json)\n",
    "    return data\n",
    "\n",
    "print(random_fake_data(42)) \n"
   ]
  },
  {
   "cell_type": "markdown",
   "id": "51b77ad4-4420-4aa1-a181-258819950e2e",
   "metadata": {},
   "source": [
    "<h3>Set de fake data 💯</h3>"
   ]
  }
 ],
 "metadata": {
  "kernelspec": {
   "display_name": "Python 3 (ipykernel)",
   "language": "python",
   "name": "python3"
  },
  "language_info": {
   "codemirror_mode": {
    "name": "ipython",
    "version": 3
   },
   "file_extension": ".py",
   "mimetype": "text/x-python",
   "name": "python",
   "nbconvert_exporter": "python",
   "pygments_lexer": "ipython3",
   "version": "3.10.4"
  }
 },
 "nbformat": 4,
 "nbformat_minor": 5
}
